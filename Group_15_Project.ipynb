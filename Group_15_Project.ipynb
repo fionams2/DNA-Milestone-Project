{
  "nbformat": 4,
  "nbformat_minor": 0,
  "metadata": {
    "colab": {
      "name": "Group 15 Project.ipynb",
      "provenance": [],
      "collapsed_sections": []
    },
    "kernelspec": {
      "name": "python3",
      "display_name": "Python 3"
    }
  },
  "cells": [
    {
      "cell_type": "code",
      "metadata": {
        "id": "L24ufFKSiLsb",
        "colab": {
          "base_uri": "https://localhost:8080/"
        },
        "outputId": "433b33b2-ce2d-4b54-bfc9-8d0169500aa8"
      },
      "source": [
        "#1\r\n",
        "def dna_count(dna):\r\n",
        "  dna = dna.upper()\r\n",
        "  count_A = dna.count('A')\r\n",
        "  count_C = dna.count('C')\r\n",
        "  count_G = dna.count('G')\r\n",
        "  count_T = dna.count('T')\r\n",
        "  return count_A,count_C,count_G,count_T"
      ],
      "execution_count": null,
      "outputs": [
        {
          "output_type": "execute_result",
          "data": {
            "text/plain": [
              "(20, 12, 17, 21)"
            ]
          },
          "metadata": {
            "tags": []
          },
          "execution_count": 2
        }
      ]
    },
    {
      "cell_type": "code",
      "metadata": {
        "id": "D---Rf12v4L4",
        "colab": {
          "base_uri": "https://localhost:8080/",
          "height": 37
        },
        "outputId": "dcb8073c-3049-427d-abf1-f3b9ecf47d63"
      },
      "source": [
        "#2\r\n",
        "def dna2rna(dna):\r\n",
        "  rna = ''\r\n",
        "  for symbol in dna:\r\n",
        "    if symbol == 'T':\r\n",
        "      rna = rna + 'U'\r\n",
        "    elif symbol == 'A':\r\n",
        "      rna = rna + 'A'\r\n",
        "    elif symbol == 'C':\r\n",
        "      rna = rna + 'C'\r\n",
        "    elif symbol == 'G':\r\n",
        "      rna = rna + 'G'\r\n",
        "  return rna\r\n",
        "dna2rna(\"GATGGAACTTGACTACGTAAATT\")"
      ],
      "execution_count": null,
      "outputs": [
        {
          "output_type": "execute_result",
          "data": {
            "application/vnd.google.colaboratory.intrinsic+json": {
              "type": "string"
            },
            "text/plain": [
              "'GAUGGAACUUGACUACGUAAAUU'"
            ]
          },
          "metadata": {
            "tags": []
          },
          "execution_count": 27
        }
      ]
    },
    {
      "cell_type": "code",
      "metadata": {
        "id": "Xw-uXb1sFoSy",
        "colab": {
          "base_uri": "https://localhost:8080/",
          "height": 36
        },
        "outputId": "27bc58a3-6137-4fb3-bdd5-fedcdfcf954a"
      },
      "source": [
        "#3\n",
        "def reverse_complement(dna):\n",
        "  dna = dna[::-1]\n",
        "  val = \"\"\n",
        "  for symbol in dna:\n",
        "    if symbol == \"A\":\n",
        "      val += \"T\"\n",
        "    elif symbol == \"C\":\n",
        "      val += \"G\"\n",
        "    elif symbol == \"T\":\n",
        "      val += \"A\"\n",
        "    elif symbol == \"G\":\n",
        "      val += \"C\"\n",
        "  return val\n",
        "reverse_complement(\"AAAACCCGGT\")"
      ],
      "execution_count": null,
      "outputs": [
        {
          "output_type": "execute_result",
          "data": {
            "application/vnd.google.colaboratory.intrinsic+json": {
              "type": "string"
            },
            "text/plain": [
              "'ACCGGGTTTT'"
            ]
          },
          "metadata": {
            "tags": []
          },
          "execution_count": 54
        }
      ]
    },
    {
      "cell_type": "code",
      "metadata": {
        "id": "UPT-jbg0Fm1B",
        "colab": {
          "base_uri": "https://localhost:8080/"
        },
        "outputId": "7a907b52-cd9b-4f96-a697-ed0742c47713"
      },
      "source": [
        "#4\n",
        "def mendels_law(hom, het, rec):\n",
        "  pop_total_1 = hom+het+rec\n",
        "  pop_total_2 = pop_total_1 - 1\n",
        "  het_p_1 = het/pop_total_1\n",
        "  rec_p_1 = rec/pop_total_1\n",
        "  het_p_2a = (het-1)/pop_total_2\n",
        "  het_p_2b = (het)/pop_total_2\n",
        "  rec_p_2a = (rec-1)/pop_total_2\n",
        "  rec_p_2b = (rec)/pop_total_2\n",
        "  return 1 - rec_p_1*rec_p_2a - rec_p_1*het_p_2b*0.5 - het_p_1*rec_p_2b*0.5 - het_p_1*het_p_2a*0.25\n",
        "\n",
        "print(mendels_law(2,2,2))"
      ],
      "execution_count": null,
      "outputs": [
        {
          "output_type": "stream",
          "text": [
            "0.7833333333333333\n"
          ],
          "name": "stdout"
        }
      ]
    },
    {
      "cell_type": "code",
      "metadata": {
        "id": "tIC5ZJD37td7",
        "colab": {
          "base_uri": "https://localhost:8080/"
        },
        "outputId": "c725d65c-2e6a-4a9e-bc87-219bff672479"
      },
      "source": [
        "#5\n",
        "def fibonacci_rabbits(n, k):\n",
        "  f1, f2 = 1,1\n",
        "  for i in range (n-1):\n",
        "    f2, f1 = f1,f1 + (f2 * k)\n",
        "  return f2\n",
        "fibonacci_rabbits(5, 3)"
      ],
      "execution_count": null,
      "outputs": [
        {
          "output_type": "execute_result",
          "data": {
            "text/plain": [
              "19"
            ]
          },
          "metadata": {
            "tags": []
          },
          "execution_count": 31
        }
      ]
    },
    {
      "cell_type": "code",
      "metadata": {
        "id": "hQP2bmHhHtEU",
        "colab": {
          "base_uri": "https://localhost:8080/"
        },
        "outputId": "088f69d8-227e-494b-bf84-f098df99174f"
      },
      "source": [
        "#6\r\n",
        "def GC_content(dna_list):\r\n",
        "  GC_count = []\r\n",
        "  for i in range(len(dna_list)):\r\n",
        "    dna_str = dna_list[i]\r\n",
        "    GC_count.append(dna_str.count('G')+dna_str.count('C'))\r\n",
        "  maxGC_num = max(GC_count)\r\n",
        "  maxGC_index = GC_count.index(maxGC_num)\r\n",
        "  GC_percent = ((maxGC_num)/(len(dna_list[maxGC_index])))*100\r\n",
        "  return (maxGC_index, GC_percent)\r\n",
        "GC_content([\"CCTGCGGAAGATCGGCACTAGAATAGCCAGAACCGTTTCTCTGAGGCTTCCGGCCTTCCCTCCCACTAATAATTCTGAGG\",\"CCATCGGTAGCGCATCCTTAGTCCAATTAAGTCCCTATCCAGGCGCTCCGCCGAAGGTCTATATCCATTTGTCAGCAGACACGC\",\"CCACCCTCGTGGTATGGCTAGGCATTCAGGAACCGGAGAACGCTTCAGACCAGCCCGGACTGGGAACCTGCGGGCAGTAGGTGGAAT\"])"
      ],
      "execution_count": null,
      "outputs": [
        {
          "output_type": "execute_result",
          "data": {
            "text/plain": [
              "(2, 60.91954022988506)"
            ]
          },
          "metadata": {
            "tags": []
          },
          "execution_count": 66
        }
      ]
    },
    {
      "cell_type": "code",
      "metadata": {
        "colab": {
          "base_uri": "https://localhost:8080/",
          "height": 37
        },
        "id": "Zxr27Ov89GoC",
        "outputId": "53af98a6-5e20-4d9b-e0cf-de6c0c8182ff"
      },
      "source": [
        "#7\n",
        "def rna2codons(rna):\n",
        "    genetic_code = {\n",
        "        'UUU': 'F', 'UUC': 'F', 'UUA': 'L', 'UUG': 'L',        'CUU': 'L', 'CUC': 'L', 'CUA': 'L', 'CUG': 'L',\n",
        "        'AUU': 'I', 'AUC': 'I', 'AUA': 'I', 'AUG': 'M',        'GUU': 'V', 'GUC': 'V', 'GUA': 'V', 'GUG': 'V',\n",
        "\n",
        "        'UCU': 'S', 'UCC': 'S', 'UCA': 'S', 'UCG': 'S',        'CCU': 'P', 'CCC': 'P', 'CCA': 'P', 'CCG': 'P',\n",
        "        'ACU': 'T', 'ACC': 'T', 'ACA': 'T', 'ACG': 'T',        'GCU': 'A', 'GCC': 'A', 'GCA': 'A', 'GCG': 'A',\n",
        "\n",
        "        'UAU': 'Y', 'UAC': 'Y', 'UAA': '', 'UAG': '',        'CAU': 'H', 'CAC': 'H', 'CAA': 'Q', 'CAG': 'Q',\n",
        "        'AAU': 'N', 'AAC': 'N', 'AAA': 'K', 'AAG': 'K',        'GAU': 'D', 'GAC': 'D', 'GAA': 'E', 'GAG': 'E',\n",
        "\n",
        "        'UGU': 'C', 'UGC': 'C', 'UGA': '', 'UGG': 'W',        'CGU': 'R', 'CGC': 'R', 'CGA': 'R', 'CGG': 'R',\n",
        "        'AGU': 'S', 'AGC': 'S', 'AGA': 'R', 'AGG': 'R',        'GGU': 'G', 'GGC': 'G', 'GGA': 'G', 'GGG': 'G',\n",
        "    }\n",
        "    allowed_codons = set('ACGU')\n",
        "    for x in rna:\n",
        "        if x not in allowed_codons:\n",
        "            return \"Invalid\"\n",
        "    return genetic_code[rna]\n",
        "\n",
        "def rna2codon(rna):\n",
        "    amino = ''\n",
        "    for i in range( 0, int( len( rna) / 3)):\n",
        "        amino = amino + rna2codons( rna[3*i:3*i+3])\n",
        "    return amino\n",
        "\n",
        "rna2codon(\"AUGGCCAUGGCGCCCAGAACUGAGAUCAAUAGUACCCGUAUUAACGGGUGA\")"
      ],
      "execution_count": null,
      "outputs": [
        {
          "output_type": "execute_result",
          "data": {
            "application/vnd.google.colaboratory.intrinsic+json": {
              "type": "string"
            },
            "text/plain": [
              "'MAMAPRTEINSTRING'"
            ]
          },
          "metadata": {
            "tags": []
          },
          "execution_count": 78
        }
      ]
    },
    {
      "cell_type": "code",
      "metadata": {
        "colab": {
          "base_uri": "https://localhost:8080/"
        },
        "id": "RykuqkvqHmfl",
        "outputId": "cdd61cf4-27e6-423f-9e56-1e0963f0d92a"
      },
      "source": [
        "#8\r\n",
        "def locate_substring(dna_snippet, dna):\r\n",
        "  indexes = [i for i in range(len(dna_snippet))if dna_snippet.startswith(dna,i)]\r\n",
        "  return indexes\r\n",
        "print(locate_substring(\"GATATATGCATATACTT\",\"ATAT\"))"
      ],
      "execution_count": null,
      "outputs": [
        {
          "output_type": "stream",
          "text": [
            "[1, 3, 9]\n"
          ],
          "name": "stdout"
        }
      ]
    },
    {
      "cell_type": "code",
      "metadata": {
        "id": "1-MVEwck7wTE",
        "colab": {
          "base_uri": "https://localhost:8080/"
        },
        "outputId": "c2670044-37e5-426b-c0f3-2e5bc81c2ac1"
      },
      "source": [
        "#9\n",
        "def hamming_dist(dna1, dna2):\n",
        "\tdistance = 0\n",
        "\tlength = len(dna1)\n",
        "\n",
        "\tfor i in range(length):\n",
        "\t\tdna1_char = dna1[i]\n",
        "\t\tdna2_char = dna2[i]\n",
        "\n",
        "\tif dna1_char != dna2_char:\n",
        "                        distance = distance + 1     \n",
        "\treturn distance\n",
        "dna1 = 'GAGCCTACTAACGGGAT'\n",
        "dna2 = 'CATCGTAATGACGGCCT'\n",
        "distance = hamming_dist(dna1, dna2)\n",
        "print(distance)"
      ],
      "execution_count": null,
      "outputs": [
        {
          "output_type": "stream",
          "text": [
            "7\n"
          ],
          "name": "stdout"
        }
      ]
    },
    {
      "cell_type": "code",
      "metadata": {
        "id": "TvLtZQh2Hc3l",
        "colab": {
          "base_uri": "https://localhost:8080/"
        },
        "outputId": "4a132395-fd3d-4e40-920f-04959fbed72c"
      },
      "source": [
        "#10\r\n",
        "prob = 0\r\n",
        "def count_dom_phenotype(genotypes):\r\n",
        "  for index in range(len(genotypes)):\r\n",
        "    if index == 0:\r\n",
        "      prob = genotypes[0]*2\r\n",
        "    if index == 1:\r\n",
        "      prob = prob + genotypes[1]*2\r\n",
        "    if index == 2:\r\n",
        "      prob = prob + genotypes[2]*2\r\n",
        "    if index == 3:\r\n",
        "      prob = prob + (genotypes[3]*2*0.75)\r\n",
        "    if index == 4:\r\n",
        "      prob = prob + genotypes[4]*2*0.5\r\n",
        "    if index == 5:\r\n",
        "      prob = prob + 0\r\n",
        "  return prob\r\n",
        "count_dom_phenotype([1,0,0,1,0,1])"
      ],
      "execution_count": null,
      "outputs": [
        {
          "output_type": "execute_result",
          "data": {
            "text/plain": [
              "3.5"
            ]
          },
          "metadata": {
            "tags": []
          },
          "execution_count": 67
        }
      ]
    },
    {
      "cell_type": "code",
      "metadata": {
        "colab": {
          "base_uri": "https://localhost:8080/"
        },
        "id": "iWUCY1edXB6Y",
        "outputId": "b9fea681-cf3e-4fc0-96a7-d0f2e9fa58e8"
      },
      "source": [
        "#11\n",
        "genetic_code = {\n",
        "        'UUU': 'F', 'UUC': 'F', 'UUA': 'L', 'UUG': 'L',        'CUU': 'L', 'CUC': 'L', 'CUA': 'L', 'CUG': 'L',\n",
        "        'AUU': 'I', 'AUC': 'I', 'AUA': 'I', 'AUG': 'M',        'GUU': 'V', 'GUC': 'V', 'GUA': 'V', 'GUG': 'V',\n",
        "\n",
        "        'UCU': 'S', 'UCC': 'S', 'UCA': 'S', 'UCG': 'S',        'CCU': 'P', 'CCC': 'P', 'CCA': 'P', 'CCG': 'P',\n",
        "        'ACU': 'T', 'ACC': 'T', 'ACA': 'T', 'ACG': 'T',        'GCU': 'A', 'GCC': 'A', 'GCA': 'A', 'GCG': 'A',\n",
        "\n",
        "        'UAU': 'Y', 'UAC': 'Y', 'UAA': 'STOP', 'UAG': 'STOP',        'CAU': 'H', 'CAC': 'H', 'CAA': 'Q', 'CAG': 'Q',\n",
        "        'AAU': 'N', 'AAC': 'N', 'AAA': 'K', 'AAG': 'K',        'GAU': 'D', 'GAC': 'D', 'GAA': 'E', 'GAG': 'E',\n",
        "\n",
        "        'UGU': 'C', 'UGC': 'C', 'UGA': 'STOP', 'UGG': 'W',        'CGU': 'R', 'CGC': 'R', 'CGA': 'R', 'CGG': 'R',\n",
        "        'AGU': 'S', 'AGC': 'S', 'AGA': 'R', 'AGG': 'R',        'GGU': 'G', 'GGC': 'G', 'GGA': 'G', 'GGG': 'G',\n",
        "}\n",
        "def source_rna(protein):\n",
        "  Stop = 0\n",
        "  for key in genetic_code.keys():\n",
        "    if genetic_code[key] == 'STOP':\n",
        "      Stop += 1\n",
        "  total = 1\n",
        "  for i in range(0,len(protein)):\n",
        "    check = protein[i]\n",
        "    count = 0\n",
        "    for key in genetic_code.keys():\n",
        "      if genetic_code[key] == check.upper():\n",
        "        count += 1\n",
        "    if count != 0:\n",
        "      total *= count\n",
        "  return (total * Stop)%1000000\n",
        "source_rna('MA')"
      ],
      "execution_count": null,
      "outputs": [
        {
          "output_type": "execute_result",
          "data": {
            "text/plain": [
              "12"
            ]
          },
          "metadata": {
            "tags": []
          },
          "execution_count": 12
        }
      ]
    },
    {
      "cell_type": "code",
      "metadata": {
        "colab": {
          "base_uri": "https://localhost:8080/",
          "height": 37
        },
        "id": "IaniIhRIBbYe",
        "outputId": "b4df625d-0e41-4545-89ea-28333e9d436a"
      },
      "source": [
        "#12\n",
        "def splice_rna(dna, intron_list):\n",
        "  exon_dna = dna\n",
        "  codons = \"\"\n",
        "  for i in range(0,len(intron_list)):\n",
        "    exon_dna = exon_dna.replace(intron_list[i],\"\")\n",
        "  rna = dna2rna(exon_dna)\n",
        "  codons += rna2codon(rna)\n",
        "  return codons.replace(\"*\",\"\")\n",
        "splice_rna( \"ATGGTCTACATAGCTGACAAACAGCACGTAGCAATCGGTCGAATCTCGAGAGGCATATGGTCACATGATCGGTCGAGCGTGTTTCAAAGTTTGCGCCTAG\",[\"ATCGGTCGAA\", \"ATCGGTCGAGCGTGT\"])"
      ],
      "execution_count": null,
      "outputs": [
        {
          "output_type": "execute_result",
          "data": {
            "application/vnd.google.colaboratory.intrinsic+json": {
              "type": "string"
            },
            "text/plain": [
              "'MVYIADKQHVASREAYGHMFKVCA'"
            ]
          },
          "metadata": {
            "tags": []
          },
          "execution_count": 100
        }
      ]
    },
    {
      "cell_type": "code",
      "metadata": {
        "id": "pXGvuBLABz4l"
      },
      "source": [
        ""
      ],
      "execution_count": null,
      "outputs": []
    }
  ]
}